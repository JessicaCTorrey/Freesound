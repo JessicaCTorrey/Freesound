{
 "cells": [
  {
   "cell_type": "markdown",
   "metadata": {},
   "source": [
    "## Create Dataset\n",
    "\n",
    "Create the dataset using only the paths from your computer to the audiofiles and the csv with the classifications"
   ]
  },
  {
   "cell_type": "code",
   "execution_count": 1,
   "metadata": {},
   "outputs": [],
   "source": [
    "import utils as u\n",
    "\n",
    "dataset = u.dataset_maker(\"audio_path\",\"class_path\")"
   ]
  },
  {
   "cell_type": "markdown",
   "metadata": {},
   "source": [
    "## Extract Features\n",
    "\n",
    "Fill the dataset with its features. Before doing this think about what features and aggregations will you need!"
   ]
  },
  {
   "cell_type": "code",
   "execution_count": 2,
   "metadata": {},
   "outputs": [],
   "source": [
    "dataset = u.features_extractor(dataset)"
   ]
  },
  {
   "cell_type": "markdown",
   "metadata": {},
   "source": [
    "## Class to one-hot\n",
    "\n",
    "You need a function that transform classes to vectors in order to train models with scikit-learn."
   ]
  },
  {
   "cell_type": "code",
   "execution_count": null,
   "metadata": {},
   "outputs": [],
   "source": [
    "# Test your u.class_to_one_hot() function here"
   ]
  },
  {
   "cell_type": "markdown",
   "metadata": {},
   "source": [
    "## Numpy dataset\n",
    "\n",
    "Transform the dataset into a numpy array and save it."
   ]
  },
  {
   "cell_type": "code",
   "execution_count": 3,
   "metadata": {},
   "outputs": [],
   "source": [
    "X,y = u.dataset_to_numpy(dataset)\n",
    "\n",
    "#Apply np.save to save X and y as binary files."
   ]
  },
  {
   "cell_type": "code",
   "execution_count": 1,
   "metadata": {},
   "outputs": [],
   "source": [
    "#Apply np.load to load the X and y matrices."
   ]
  },
  {
   "cell_type": "markdown",
   "metadata": {},
   "source": [
    "## Testing of clustering\n",
    "\n",
    "Pick two features by hand and use them to apply dimensionality reduction. After that train a clustering model to see if these features generate nice clusters."
   ]
  },
  {
   "cell_type": "code",
   "execution_count": 4,
   "metadata": {},
   "outputs": [
    {
     "ename": "NameError",
     "evalue": "name 'feat_1' is not defined",
     "output_type": "error",
     "traceback": [
      "\u001b[1;31m---------------------------------------------------------------------------\u001b[0m",
      "\u001b[1;31mNameError\u001b[0m                                 Traceback (most recent call last)",
      "Cell \u001b[1;32mIn[4], line 1\u001b[0m\n\u001b[1;32m----> 1\u001b[0m X_red \u001b[38;5;241m=\u001b[39m u\u001b[38;5;241m.\u001b[39mdim_red_simple(X, \u001b[43mfeat_1\u001b[49m, feat_2)\n\u001b[0;32m      2\u001b[0m \u001b[38;5;28mprint\u001b[39m(u\u001b[38;5;241m.\u001b[39mcluster_score(X_red,y))\n",
      "\u001b[1;31mNameError\u001b[0m: name 'feat_1' is not defined"
     ]
    }
   ],
   "source": [
    "X_red = u.dim_red_simple(X, feat_1, feat_2)\n",
    "print(u.cluster_score(X_red,y))"
   ]
  },
  {
   "cell_type": "markdown",
   "metadata": {},
   "source": [
    "## Testing of clustering using PCA\n",
    "\n",
    "Repeat the process using PCA"
   ]
  },
  {
   "cell_type": "code",
   "execution_count": null,
   "metadata": {},
   "outputs": [],
   "source": [
    "X_red = u.dim_red_pca(X)\n",
    "print(u.cluster_score(X_red,y))"
   ]
  },
  {
   "cell_type": "markdown",
   "metadata": {},
   "source": [
    "## What else?\n",
    "\n",
    "Some ideas:\n",
    "\n",
    "- run an exhaustive look where you find the two most important features.\n",
    "- remove some bad features and then apply PCA (this will be most likely the best solution).\n",
    "- Plot your results! Bassically put everything in a 2d plot with pyplot and paint the classes to see if they are close to each others."
   ]
  }
 ],
 "metadata": {
  "kernelspec": {
   "display_name": "Python 3",
   "language": "python",
   "name": "python3"
  },
  "language_info": {
   "codemirror_mode": {
    "name": "ipython",
    "version": 3
   },
   "file_extension": ".py",
   "mimetype": "text/x-python",
   "name": "python",
   "nbconvert_exporter": "python",
   "pygments_lexer": "ipython3",
   "version": "3.12.3"
  }
 },
 "nbformat": 4,
 "nbformat_minor": 2
}
